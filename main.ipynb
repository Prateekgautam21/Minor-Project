{
 "cells": [
  {
   "cell_type": "code",
   "execution_count": 2,
   "metadata": {},
   "outputs": [
    {
     "name": "stdout",
     "output_type": "stream",
     "text": [
      "Requirement already satisfied: joblib in c:\\users\\kalyan\\anaconda3\\envs\\project\\lib\\site-packages (0.17.0)\n",
      "Requirement already satisfied: pandas in c:\\users\\kalyan\\anaconda3\\envs\\project\\lib\\site-packages (1.1.3)\n",
      "Requirement already satisfied: python-dateutil>=2.7.3 in c:\\users\\kalyan\\anaconda3\\envs\\project\\lib\\site-packages (from pandas) (2.8.1)\n",
      "Requirement already satisfied: numpy>=1.15.4 in c:\\users\\kalyan\\anaconda3\\envs\\project\\lib\\site-packages (from pandas) (1.19.2)\n",
      "Requirement already satisfied: pytz>=2017.2 in c:\\users\\kalyan\\anaconda3\\envs\\project\\lib\\site-packages (from pandas) (2020.1)\n",
      "Requirement already satisfied: six>=1.5 in c:\\users\\kalyan\\anaconda3\\envs\\project\\lib\\site-packages (from python-dateutil>=2.7.3->pandas) (1.15.0)\n",
      "Requirement already satisfied: numpy in c:\\users\\kalyan\\anaconda3\\envs\\project\\lib\\site-packages (1.19.2)\n",
      "Requirement already satisfied: sklearn in c:\\users\\kalyan\\anaconda3\\envs\\project\\lib\\site-packages (0.0)\n",
      "Requirement already satisfied: scikit-learn in c:\\users\\kalyan\\anaconda3\\envs\\project\\lib\\site-packages (from sklearn) (0.23.2)\n",
      "Requirement already satisfied: threadpoolctl>=2.0.0 in c:\\users\\kalyan\\anaconda3\\envs\\project\\lib\\site-packages (from scikit-learn->sklearn) (2.1.0)\n",
      "Requirement already satisfied: joblib>=0.11 in c:\\users\\kalyan\\anaconda3\\envs\\project\\lib\\site-packages (from scikit-learn->sklearn) (0.17.0)\n",
      "Requirement already satisfied: numpy>=1.13.3 in c:\\users\\kalyan\\anaconda3\\envs\\project\\lib\\site-packages (from scikit-learn->sklearn) (1.19.2)\n",
      "Requirement already satisfied: scipy>=0.19.1 in c:\\users\\kalyan\\anaconda3\\envs\\project\\lib\\site-packages (from scikit-learn->sklearn) (1.5.2)\n",
      "Requirement already satisfied: praat-parselmouth in c:\\users\\kalyan\\anaconda3\\envs\\project\\lib\\site-packages (0.3.3)\n",
      "Requirement already satisfied: numpy>=1.7.0 in c:\\users\\kalyan\\anaconda3\\envs\\project\\lib\\site-packages (from praat-parselmouth) (1.19.2)\n"
     ]
    }
   ],
   "source": [
    "!pip install joblib\n",
    "!pip install pandas\n",
    "!pip install numpy\n",
    "!pip install sklearn\n",
    "!pip install praat-parselmouth"
   ]
  },
  {
   "cell_type": "code",
   "execution_count": 1,
   "metadata": {},
   "outputs": [],
   "source": [
    "import glob\n",
    "import numpy as np\n",
    "import pandas as pd\n",
    "import parselmouth\n",
    "from parselmouth.praat import call"
   ]
  },
  {
   "cell_type": "code",
   "execution_count": 2,
   "metadata": {},
   "outputs": [],
   "source": [
    "def measurePitch(voiceID, f0min, f0max, unit):\n",
    "    sound = parselmouth.Sound(voiceID) # read the sound\n",
    "    pitch = call(sound, \"To Pitch\", 0.0, f0min, f0max)\n",
    "    pointProcess = call(sound, \"To PointProcess (periodic, cc)\", f0min, f0max)#create a praat pitch object\n",
    "    localJitter = call(pointProcess, \"Get jitter (local)\", 0, 0, 0.0001, 0.02, 1.3)\n",
    "    localabsoluteJitter = call(pointProcess, \"Get jitter (local, absolute)\", 0, 0, 0.0001, 0.02, 1.3)\n",
    "    rapJitter = call(pointProcess, \"Get jitter (rap)\", 0, 0, 0.0001, 0.02, 1.3)\n",
    "    ppq5Jitter = call(pointProcess, \"Get jitter (ppq5)\", 0, 0, 0.0001, 0.02, 1.3)\n",
    "    localShimmer =  call([sound, pointProcess], \"Get shimmer (local)\", 0, 0, 0.0001, 0.02, 1.3, 1.6)\n",
    "    localdbShimmer = call([sound, pointProcess], \"Get shimmer (local_dB)\", 0, 0, 0.0001, 0.02, 1.3, 1.6)\n",
    "    apq3Shimmer = call([sound, pointProcess], \"Get shimmer (apq3)\", 0, 0, 0.0001, 0.02, 1.3, 1.6)\n",
    "    aqpq5Shimmer = call([sound, pointProcess], \"Get shimmer (apq5)\", 0, 0, 0.0001, 0.02, 1.3, 1.6)\n",
    "    apq11Shimmer =  call([sound, pointProcess], \"Get shimmer (apq11)\", 0, 0, 0.0001, 0.02, 1.3, 1.6)\n",
    "    harmonicity05 = call(sound, \"To Harmonicity (cc)\", 0.01, 500, 0.1, 1.0)\n",
    "    hnr05 = call(harmonicity05, \"Get mean\", 0, 0)\n",
    "    harmonicity15 = call(sound, \"To Harmonicity (cc)\", 0.01, 1500, 0.1, 1.0)\n",
    "    hnr15 = call(harmonicity15, \"Get mean\", 0, 0)\n",
    "    harmonicity25 = call(sound, \"To Harmonicity (cc)\", 0.01, 2500, 0.1, 1.0)\n",
    "    hnr25 = call(harmonicity25, \"Get mean\", 0, 0)\n",
    "    harmonicity35 = call(sound, \"To Harmonicity (cc)\", 0.01, 3500, 0.1, 1.0)\n",
    "    hnr35 = call(harmonicity35, \"Get mean\", 0, 0)\n",
    "    harmonicity38 = call(sound, \"To Harmonicity (cc)\", 0.01, 3800, 0.1, 1.0)\n",
    "    hnr38 = call(harmonicity38, \"Get mean\", 0, 0)\n",
    "    return localJitter, localabsoluteJitter, rapJitter, ppq5Jitter, localShimmer, localdbShimmer, apq3Shimmer, aqpq5Shimmer, apq11Shimmer, hnr05, hnr15 ,hnr25 ,hnr35 ,hnr38"
   ]
  },
  {
   "cell_type": "code",
   "execution_count": 6,
   "metadata": {},
   "outputs": [],
   "source": [
    "localJitter_list = [] #measure\n",
    "localabsoluteJitter_list = [] #measure\n",
    "rapJitter_list = [] #measure\n",
    "ppq5Jitter_list = [] #measure\n",
    "localShimmer_list =  [] #measure\n",
    "localdbShimmer_list = [] #measure\n",
    "apq3Shimmer_list = [] #measure\n",
    "aqpq5Shimmer_list = [] #measure\n",
    "apq11Shimmer_list =  [] #measure\n",
    "hnr05_list = [] #measure\n",
    "hnr15_list = [] #measure\n",
    "hnr25_list = [] #measure\n",
    "parkinson_list = [] #Parkinson(1) or healthy(0)\n",
    "file_list = []"
   ]
  },
  {
   "cell_type": "code",
   "execution_count": 7,
   "metadata": {},
   "outputs": [],
   "source": [
    "for wave_file in glob.glob(\"audio/SpontaneousDialogue/PD/*.wav\"):\n",
    "    sound = parselmouth.Sound(wave_file)\n",
    "    (localJitter, localabsoluteJitter, rapJitter, ppq5Jitter, localShimmer, localdbShimmer, apq3Shimmer, aqpq5Shimmer, apq11Shimmer, hnr05, hnr15 ,hnr25 ,hnr35 ,hnr38) = measurePitch(sound, 75, 1000, \"Hertz\")\n",
    "    file_list.append(wave_file) # make an ID list\n",
    "    localJitter_list.append(localJitter) # make a mean F0 list\n",
    "    localabsoluteJitter_list.append(localabsoluteJitter) # make a sd F0 list\n",
    "    rapJitter_list.append(rapJitter)\n",
    "    ppq5Jitter_list.append(ppq5Jitter)\n",
    "    localShimmer_list.append(localShimmer)\n",
    "    localdbShimmer_list.append(localdbShimmer)\n",
    "    apq3Shimmer_list.append(apq3Shimmer)\n",
    "    aqpq5Shimmer_list.append(aqpq5Shimmer)\n",
    "    apq11Shimmer_list.append(apq11Shimmer)\n",
    "    hnr05_list.append(hnr05)\n",
    "    hnr15_list.append(hnr15)\n",
    "    hnr25_list.append(hnr25)\n",
    "    parkinson_list.append(1) #1 because parkinson file\n",
    "\n",
    "for wave_file in glob.glob(\"audio/ReadText/PD/*.wav\"):\n",
    "    sound = parselmouth.Sound(wave_file)\n",
    "    (localJitter, localabsoluteJitter, rapJitter, ppq5Jitter, localShimmer, localdbShimmer, apq3Shimmer, aqpq5Shimmer, apq11Shimmer, hnr05, hnr15 ,hnr25 ,hnr35 ,hnr38) = measurePitch(sound, 75, 1000, \"Hertz\")\n",
    "    file_list.append(wave_file) # make an ID list\n",
    "    localJitter_list.append(localJitter) # make a mean F0 list\n",
    "    localabsoluteJitter_list.append(localabsoluteJitter) # make a sd F0 list\n",
    "    rapJitter_list.append(rapJitter)\n",
    "    ppq5Jitter_list.append(ppq5Jitter)\n",
    "    localShimmer_list.append(localShimmer)\n",
    "    localdbShimmer_list.append(localdbShimmer)\n",
    "    apq3Shimmer_list.append(apq3Shimmer)\n",
    "    aqpq5Shimmer_list.append(aqpq5Shimmer)\n",
    "    apq11Shimmer_list.append(apq11Shimmer)\n",
    "    hnr05_list.append(hnr05)\n",
    "    hnr15_list.append(hnr15)\n",
    "    hnr25_list.append(hnr25)\n",
    "    parkinson_list.append(1) #1 because parkinson file\n",
    "\n",
    "for wave_file in glob.glob(\"audio/SpontaneousDialogue/HC/*.wav\"):\n",
    "    sound = parselmouth.Sound(wave_file)\n",
    "    (localJitter, localabsoluteJitter, rapJitter, ppq5Jitter, localShimmer, localdbShimmer, apq3Shimmer, aqpq5Shimmer, apq11Shimmer, hnr05, hnr15 ,hnr25 ,hnr35 ,hnr38) = measurePitch(sound, 75, 1000, \"Hertz\")\n",
    "    file_list.append(wave_file) # make an ID list\n",
    "    localJitter_list.append(localJitter) # make a mean F0 list\n",
    "    localabsoluteJitter_list.append(localabsoluteJitter) # make a sd F0 list\n",
    "    rapJitter_list.append(rapJitter)\n",
    "    ppq5Jitter_list.append(ppq5Jitter)\n",
    "    localShimmer_list.append(localShimmer)\n",
    "    localdbShimmer_list.append(localdbShimmer)\n",
    "    apq3Shimmer_list.append(apq3Shimmer)\n",
    "    aqpq5Shimmer_list.append(aqpq5Shimmer)\n",
    "    apq11Shimmer_list.append(apq11Shimmer)\n",
    "    hnr05_list.append(hnr05)\n",
    "    hnr15_list.append(hnr15)\n",
    "    hnr25_list.append(hnr25)\n",
    "    parkinson_list.append(0) #0 because healthy file\n",
    "\n",
    "for wave_file in glob.glob(\"audio/ReadText/HC/*.wav\"):\n",
    "    sound = parselmouth.Sound(wave_file)\n",
    "    (localJitter, localabsoluteJitter, rapJitter, ppq5Jitter, localShimmer, localdbShimmer, apq3Shimmer, aqpq5Shimmer, apq11Shimmer, hnr05, hnr15 ,hnr25 ,hnr35 ,hnr38) = measurePitch(sound, 75, 1000, \"Hertz\")\n",
    "    file_list.append(wave_file) # make an ID list\n",
    "    localJitter_list.append(localJitter) # make a mean F0 list\n",
    "    localabsoluteJitter_list.append(localabsoluteJitter) # make a sd F0 list\n",
    "    rapJitter_list.append(rapJitter)\n",
    "    ppq5Jitter_list.append(ppq5Jitter)\n",
    "    localShimmer_list.append(localShimmer)\n",
    "    localdbShimmer_list.append(localdbShimmer)\n",
    "    apq3Shimmer_list.append(apq3Shimmer)\n",
    "    aqpq5Shimmer_list.append(aqpq5Shimmer)\n",
    "    apq11Shimmer_list.append(apq11Shimmer)\n",
    "    hnr05_list.append(hnr05)\n",
    "    hnr15_list.append(hnr15)\n",
    "    hnr25_list.append(hnr25)\n",
    "    parkinson_list.append(0) #0 because healthy file"
   ]
  },
  {
   "cell_type": "code",
   "execution_count": 11,
   "metadata": {},
   "outputs": [],
   "source": [
    "pred = pd.DataFrame(np.column_stack([parkinson_list,localJitter_list, localabsoluteJitter_list, rapJitter_list, ppq5Jitter_list, localShimmer_list, localdbShimmer_list, apq3Shimmer_list, aqpq5Shimmer_list, apq11Shimmer_list, hnr05_list, hnr15_list, hnr25_list]),\n",
    "                               columns=[\"Parkinson\",\"Jitter_rel\",\"Jitter_abs\",\"Jitter_RAP\",\"Jitter_PPQ\",\"Shim_loc\",\"Shim_dB\",\"Shim_APQ3\",\"Shim_APQ5\",\"Shi_APQ11\", \"hnr05\", \"hnr15\", \"hnr25\"])  #add these lists to pandas in the right order\n",
    "\n",
    "pred['hnr25'].fillna((pred['hnr25'].mean()), inplace=True) #Data cleaning because they may be NaN values\n",
    "pred['hnr15'].fillna((pred['hnr15'].mean()), inplace=True) #Data cleaning because they may be NaN values\n",
    "\n",
    "pred.to_csv(\"processed_results.csv\", index=False) # Write out the updated dataset"
   ]
  },
  {
   "cell_type": "code",
   "execution_count": 13,
   "metadata": {},
   "outputs": [
    {
     "name": "stdout",
     "output_type": "stream",
     "text": [
      "train accuracy = 0.6666666666666666\n",
      "test accuracy = 0.631578947368421\n"
     ]
    }
   ],
   "source": [
    "parkinson = pd.read_csv(\"processed_results.csv\") #Loading CSV dataset\n",
    "\n",
    "predictors=[\"Jitter_rel\",\"Jitter_abs\",\"Jitter_RAP\",\"Jitter_PPQ\",\"Shim_loc\",\"Shim_dB\",\"Shim_APQ3\",\"Shim_APQ5\",\"Shi_APQ11\",\"hnr05\",\"hnr15\", \"hnr25\"] #Listing predictors\n",
    "\n",
    "for col in predictors: # Loop through all columns in predictors\n",
    "    if parkinson[col].dtype == 'object':  # check if column's type is object (text)\n",
    "        parkinson[col] = pd.Categorical(parkinson[col]).codes  # convert text to numerical\n",
    "        \n",
    "from sklearn.model_selection import train_test_split\n",
    "X_train, X_test, y_train, y_test = train_test_split(parkinson[predictors], parkinson['Parkinson'], test_size=0.25, random_state=1)        \n",
    "        \n",
    "from sklearn.linear_model import LogisticRegression\n",
    "\n",
    "clf = LogisticRegression()\n",
    "clf.fit(X_train, y_train)\n",
    "\n",
    "train_score = clf.score(X_train, y_train)\n",
    "test_score = clf.score(X_test, y_test)\n",
    "\n",
    "print ('train accuracy =', train_score)\n",
    "print ('test accuracy =', test_score)\n",
    "\n",
    "# train accuracy = 0.6666666666666666\n",
    "# test accuracy = 0.631578947368421"
   ]
  },
  {
   "cell_type": "code",
   "execution_count": 14,
   "metadata": {},
   "outputs": [
    {
     "data": {
      "text/plain": [
       "['trainedModel.sav']"
      ]
     },
     "execution_count": 14,
     "metadata": {},
     "output_type": "execute_result"
    }
   ],
   "source": [
    "import joblib\n",
    "\n",
    "clf.fit(X_train, y_train)\n",
    "\n",
    "joblib.dump(clf, \"trainedModel.sav\")"
   ]
  },
  {
   "cell_type": "code",
   "execution_count": 15,
   "metadata": {},
   "outputs": [],
   "source": [
    "import joblib\n",
    "import parselmouth\n",
    "from parselmouth.praat import call\n",
    "import pandas as pd\n",
    "import numpy as np\n",
    "import sklearn\n",
    "\n",
    "\n",
    "def loadModel(PATH):\n",
    "    clf = joblib.load(PATH)\n",
    "    return clf\n",
    "\n",
    "def measurePitch(voiceID, f0min, f0max, unit):\n",
    "    sound = parselmouth.Sound(voiceID) # read the sound\n",
    "    pitch = call(sound, \"To Pitch\", 0.0, f0min, f0max)\n",
    "    pointProcess = call(sound, \"To PointProcess (periodic, cc)\", f0min, f0max)#create a praat pitch object\n",
    "    localJitter = call(pointProcess, \"Get jitter (local)\", 0, 0, 0.0001, 0.02, 1.3)\n",
    "    localabsoluteJitter = call(pointProcess, \"Get jitter (local, absolute)\", 0, 0, 0.0001, 0.02, 1.3)\n",
    "    rapJitter = call(pointProcess, \"Get jitter (rap)\", 0, 0, 0.0001, 0.02, 1.3)\n",
    "    ppq5Jitter = call(pointProcess, \"Get jitter (ppq5)\", 0, 0, 0.0001, 0.02, 1.3)\n",
    "    localShimmer =  call([sound, pointProcess], \"Get shimmer (local)\", 0, 0, 0.0001, 0.02, 1.3, 1.6)\n",
    "    localdbShimmer = call([sound, pointProcess], \"Get shimmer (local_dB)\", 0, 0, 0.0001, 0.02, 1.3, 1.6)\n",
    "    apq3Shimmer = call([sound, pointProcess], \"Get shimmer (apq3)\", 0, 0, 0.0001, 0.02, 1.3, 1.6)\n",
    "    aqpq5Shimmer = call([sound, pointProcess], \"Get shimmer (apq5)\", 0, 0, 0.0001, 0.02, 1.3, 1.6)\n",
    "    apq11Shimmer =  call([sound, pointProcess], \"Get shimmer (apq11)\", 0, 0, 0.0001, 0.02, 1.3, 1.6)\n",
    "    harmonicity05 = call(sound, \"To Harmonicity (cc)\", 0.01, 500, 0.1, 1.0)\n",
    "    hnr05 = call(harmonicity05, \"Get mean\", 0, 0)\n",
    "    harmonicity15 = call(sound, \"To Harmonicity (cc)\", 0.01, 1500, 0.1, 1.0)\n",
    "    hnr15 = call(harmonicity15, \"Get mean\", 0, 0)\n",
    "    harmonicity25 = call(sound, \"To Harmonicity (cc)\", 0.01, 2500, 0.1, 1.0)\n",
    "    hnr25 = call(harmonicity25, \"Get mean\", 0, 0)\n",
    "    harmonicity35 = call(sound, \"To Harmonicity (cc)\", 0.01, 3500, 0.1, 1.0)\n",
    "    hnr35 = call(harmonicity35, \"Get mean\", 0, 0)\n",
    "    harmonicity38 = call(sound, \"To Harmonicity (cc)\", 0.01, 3800, 0.1, 1.0)\n",
    "    hnr38 = call(harmonicity38, \"Get mean\", 0, 0)\n",
    "    return localJitter, localabsoluteJitter, rapJitter, ppq5Jitter, localShimmer, localdbShimmer, apq3Shimmer, aqpq5Shimmer, apq11Shimmer, hnr05, hnr15 ,hnr25 ,hnr35 ,hnr38\n",
    "\n",
    "\n",
    "def predict(clf, wavPath):\n",
    "    file_list = []\n",
    "    localJitter_list = []\n",
    "    localabsoluteJitter_list = []\n",
    "    rapJitter_list = []\n",
    "    ppq5Jitter_list = []\n",
    "    localShimmer_list = []\n",
    "    localdbShimmer_list = []\n",
    "    apq3Shimmer_list = []\n",
    "    aqpq5Shimmer_list = []\n",
    "    apq11Shimmer_list = []\n",
    "    hnr05_list = []\n",
    "    hnr15_list = []\n",
    "    hnr25_list = []\n",
    "    hnr35_list = []\n",
    "    hnr38_list = []\n",
    "\n",
    "    sound = parselmouth.Sound(wavPath)\n",
    "    (localJitter, localabsoluteJitter, rapJitter, ppq5Jitter, localShimmer, localdbShimmer, apq3Shimmer, aqpq5Shimmer,\n",
    "     apq11Shimmer, hnr05, hnr15, hnr25, hnr35, hnr38) = measurePitch(sound, 75, 1000, \"Hertz\")\n",
    "    localJitter_list.append(localJitter)  # make a mean F0 list\n",
    "    localabsoluteJitter_list.append(localabsoluteJitter)  # make a sd F0 list\n",
    "    rapJitter_list.append(rapJitter)\n",
    "    ppq5Jitter_list.append(ppq5Jitter)\n",
    "    localShimmer_list.append(localShimmer)\n",
    "    localdbShimmer_list.append(localdbShimmer)\n",
    "    apq3Shimmer_list.append(apq3Shimmer)\n",
    "    aqpq5Shimmer_list.append(aqpq5Shimmer)\n",
    "    apq11Shimmer_list.append(apq11Shimmer)\n",
    "    hnr05_list.append(hnr05)\n",
    "    hnr15_list.append(hnr15)\n",
    "    hnr25_list.append(hnr25)\n",
    "    hnr35_list.append(hnr35)\n",
    "    hnr38_list.append(hnr38)\n",
    "\n",
    "    toPred = pd.DataFrame(np.column_stack(\n",
    "        [localJitter_list, localabsoluteJitter_list, rapJitter_list, ppq5Jitter_list, localShimmer_list,\n",
    "         localdbShimmer_list, apq3Shimmer_list, aqpq5Shimmer_list, apq11Shimmer_list, hnr05_list, hnr15_list,\n",
    "         hnr25_list]),\n",
    "                         columns=[\"Jitter_rel\", \"Jitter_abs\", \"Jitter_RAP\", \"Jitter_PPQ\", \"Shim_loc\", \"Shim_dB\",\n",
    "                                  \"Shim_APQ3\", \"Shim_APQ5\", \"Shi_APQ11\", \"hnr05\", \"hnr15\",\n",
    "                                  \"hnr25\"])  # add these lists to pandas in the right order\n",
    "\n",
    "    resp = clf.predict(toPred)\n",
    "    resp = str(resp)\n",
    "\n",
    "    if resp == \"[1.]\":\n",
    "        return True\n",
    "    else:\n",
    "        return False"
   ]
  },
  {
   "cell_type": "code",
   "execution_count": 27,
   "metadata": {},
   "outputs": [
    {
     "name": "stdout",
     "output_type": "stream",
     "text": [
      "False\n"
     ]
    }
   ],
   "source": [
    "# from RecognitionLib import *\n",
    "\n",
    "path = \"trainedModel.sav\" #Model path\n",
    "clf = loadModel(path) #Model loading\n",
    "\n",
    "print(predict(clf, \"kalyan_new.mpeg\"))#Predicition"
   ]
  },
  {
   "cell_type": "code",
   "execution_count": 17,
   "metadata": {},
   "outputs": [
    {
     "name": "stderr",
     "output_type": "stream",
     "text": [
      "ERROR: Could not find a version that satisfies the requirement RecognitionLib (from versions: none)\n",
      "ERROR: No matching distribution found for RecognitionLib\n"
     ]
    }
   ],
   "source": [
    "!pip install RecognitionLib"
   ]
  },
  {
   "cell_type": "code",
   "execution_count": null,
   "metadata": {},
   "outputs": [],
   "source": []
  }
 ],
 "metadata": {
  "kernelspec": {
   "display_name": "Python 3",
   "language": "python",
   "name": "python3"
  },
  "language_info": {
   "codemirror_mode": {
    "name": "ipython",
    "version": 3
   },
   "file_extension": ".py",
   "mimetype": "text/x-python",
   "name": "python",
   "nbconvert_exporter": "python",
   "pygments_lexer": "ipython3",
   "version": "3.7.9"
  }
 },
 "nbformat": 4,
 "nbformat_minor": 4
}
